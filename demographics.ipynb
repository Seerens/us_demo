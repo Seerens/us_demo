{
 "cells": [
  {
   "cell_type": "code",
   "execution_count": 1,
   "metadata": {},
   "outputs": [],
   "source": [
    "import pandas as pd\n",
    "import os\n",
    "import glob"
   ]
  },
  {
   "cell_type": "code",
   "execution_count": 18,
   "metadata": {},
   "outputs": [],
   "source": [
    "#create df solely with headers\n",
    "base = pd.read_csv(\"QuickFacts Alabama - California.csv\")\n",
    "base = base[[\"Fact\", \"Fact Note\"]]\n",
    "base = base.transpose()\n",
    "base.columns = base.iloc[0]\n",
    "base\n",
    "\n",
    "# iterate through all csv files, transpose them and include them into master file\n",
    "path = os.getcwd()\n",
    "csv_files = glob.glob(os.path.join(path, \"*.csv\"))\n",
    "for file in csv_files:\n",
    "    df = pd.read_csv(file)\n",
    "    df_T = df.transpose()\n",
    "    df_T.columns  = df_T.iloc[0]\n",
    "    base = pd.concat([base, df_T])"
   ]
  },
  {
   "cell_type": "code",
   "execution_count": 30,
   "metadata": {},
   "outputs": [],
   "source": [
    "# remove rows like \"Fact Notes\" to only include the raw data for respective states\n",
    "state_names = [\"Alaska\", \"Alabama\", \"Arkansas\", \"American Samoa\", \"Arizona\", \"California\", \"Colorado\", \"Connecticut\", \"District of Columbia\", \"Delaware\", \"Florida\", \"Georgia\", \"Guam\", \"Hawaii\", \"Iowa\", \"Idaho\", \"Illinois\", \"Indiana\", \"Kansas\", \"Kentucky\", \"Louisiana\", \"Massachusetts\", \"Maryland\", \"Maine\", \"Michigan\", \"Minnesota\", \"Missouri\", \"Mississippi\", \"Montana\", \"North Carolina\", \"North Dakota\", \"Nebraska\", \"New Hampshire\", \"New Jersey\", \"New Mexico\", \"Nevada\", \"New York\", \"Ohio\", \"Oklahoma\", \"Oregon\", \"Pennsylvania\", \"Puerto Rico\", \"Rhode Island\", \"South Carolina\", \"South Dakota\", \"Tennessee\", \"Texas\", \"Utah\", \"Virginia\", \"Virgin Islands\", \"Vermont\", \"Washington\", \"Wisconsin\", \"West Virginia\", \"Wyoming\"]\n",
    "base = base[base.index.isin(state_names)]"
   ]
  },
  {
   "cell_type": "code",
   "execution_count": 31,
   "metadata": {},
   "outputs": [],
   "source": [
    "# broad selection of variables to keep, to be finalized in Tableau\n",
    "base_final = base[['Population, Census, April 1, 2020','Persons 65 years and over, percent', 'Persons 65 years and over, percent',\n",
    " 'Female persons, percent',\n",
    " 'White alone, percent',\n",
    " 'Black or African American alone, percent',\n",
    " 'American Indian and Alaska Native alone, percent',\n",
    " 'Asian alone, percent',\n",
    " 'Native Hawaiian and Other Pacific Islander alone, percent',\n",
    " 'Two or More Races, percent',\n",
    " 'Hispanic or Latino, percent',\n",
    " 'White alone, not Hispanic or Latino, percent', \"Bachelor's degree or higher, percent of persons age 25 years+, 2017-2021\",\n",
    " \"Persons  without health insurance, under age 65 years, percent\",\n",
    " \"In civilian labor force, total, percent of population age 16 years+, 2017-2021\",\n",
    " \"Median household income (in 2021 dollars), 2017-2021\",\n",
    " \"Per capita income in past 12 months (in 2021 dollars), 2017-2021\",\n",
    " \"Persons in poverty, percent\",\n",
    " \"Total employment, 2020\",\n",
    "\n",
    " ]]\n"
   ]
  },
  {
   "cell_type": "code",
   "execution_count": null,
   "metadata": {},
   "outputs": [],
   "source": [
    "base_final.to_csv(\"demographics.csv\")"
   ]
  },
  {
   "cell_type": "code",
   "execution_count": 32,
   "metadata": {},
   "outputs": [
    {
     "name": "stdout",
     "output_type": "stream",
     "text": [
      "American Samoa\n",
      "District of Columbia\n",
      "Guam\n",
      "Virgin Islands\n"
     ]
    }
   ],
   "source": [
    "for state in state_names:\n",
    "    if state in list(base.index):\n",
    "        continue\n",
    "    else:\n",
    "        print(state)"
   ]
  }
 ],
 "metadata": {
  "kernelspec": {
   "display_name": "base",
   "language": "python",
   "name": "python3"
  },
  "language_info": {
   "codemirror_mode": {
    "name": "ipython",
    "version": 3
   },
   "file_extension": ".py",
   "mimetype": "text/x-python",
   "name": "python",
   "nbconvert_exporter": "python",
   "pygments_lexer": "ipython3",
   "version": "3.9.12"
  },
  "orig_nbformat": 4
 },
 "nbformat": 4,
 "nbformat_minor": 2
}
